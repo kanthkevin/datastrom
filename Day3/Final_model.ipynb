{
 "cells": [
  {
   "cell_type": "code",
   "execution_count": 1,
   "metadata": {},
   "outputs": [],
   "source": [
    "import pandas as pd\n",
    "import numpy as np\n",
    "import xgboost as xgb\n",
    "from sklearn.metrics import auc, accuracy_score, confusion_matrix, mean_squared_error,classification_report\n",
    "\n",
    "from xgboost import XGBClassifier\n",
    "import matplotlib.pyplot as plt\n",
    "from xgboost import plot_importance\n",
    "\n",
    "from numpy import sort\n",
    "from xgboost import XGBClassifier\n",
    "from sklearn.model_selection import train_test_split\n",
    "from sklearn.metrics import accuracy_score\n",
    "from sklearn.feature_selection import SelectFromModel\n",
    "import sklearn\n",
    "from imblearn.over_sampling import SMOTE\n",
    "from imblearn.under_sampling import ClusterCentroids\n",
    "from collections import Counter\n",
    "from matplotlib import pyplot\n",
    "from sklearn.covariance import EllipticEnvelope\n",
    "from sklearn.model_selection import RandomizedSearchCV"
   ]
  },
  {
   "cell_type": "markdown",
   "metadata": {},
   "source": [
    "## Import datasets"
   ]
  },
  {
   "cell_type": "code",
   "execution_count": 2,
   "metadata": {},
   "outputs": [
    {
     "data": {
      "text/html": [
       "<div>\n",
       "<style scoped>\n",
       "    .dataframe tbody tr th:only-of-type {\n",
       "        vertical-align: middle;\n",
       "    }\n",
       "\n",
       "    .dataframe tbody tr th {\n",
       "        vertical-align: top;\n",
       "    }\n",
       "\n",
       "    .dataframe thead th {\n",
       "        text-align: right;\n",
       "    }\n",
       "</style>\n",
       "<table border=\"1\" class=\"dataframe\">\n",
       "  <thead>\n",
       "    <tr style=\"text-align: right;\">\n",
       "      <th></th>\n",
       "      <th>Reservation-id</th>\n",
       "      <th>Gender</th>\n",
       "      <th>Age</th>\n",
       "      <th>Ethnicity</th>\n",
       "      <th>Educational_Level</th>\n",
       "      <th>Income</th>\n",
       "      <th>Country_region</th>\n",
       "      <th>Hotel_Type</th>\n",
       "      <th>Expected_checkin</th>\n",
       "      <th>Expected_checkout</th>\n",
       "      <th>...</th>\n",
       "      <th>Meal_Type</th>\n",
       "      <th>Visted_Previously</th>\n",
       "      <th>Previous_Cancellations</th>\n",
       "      <th>Deposit_type</th>\n",
       "      <th>Booking_channel</th>\n",
       "      <th>Required_Car_Parking</th>\n",
       "      <th>Reservation_Status</th>\n",
       "      <th>Use_Promotion</th>\n",
       "      <th>Discount_Rate</th>\n",
       "      <th>Room_Rate</th>\n",
       "    </tr>\n",
       "  </thead>\n",
       "  <tbody>\n",
       "    <tr>\n",
       "      <th>0</th>\n",
       "      <td>39428300</td>\n",
       "      <td>F</td>\n",
       "      <td>40</td>\n",
       "      <td>Latino</td>\n",
       "      <td>Grad</td>\n",
       "      <td>&lt;25K</td>\n",
       "      <td>North</td>\n",
       "      <td>City Hotel</td>\n",
       "      <td>7/1/2015</td>\n",
       "      <td>7/2/2015</td>\n",
       "      <td>...</td>\n",
       "      <td>BB</td>\n",
       "      <td>No</td>\n",
       "      <td>No</td>\n",
       "      <td>No Deposit</td>\n",
       "      <td>Online</td>\n",
       "      <td>Yes</td>\n",
       "      <td>Check-In</td>\n",
       "      <td>Yes</td>\n",
       "      <td>10</td>\n",
       "      <td>218</td>\n",
       "    </tr>\n",
       "    <tr>\n",
       "      <th>1</th>\n",
       "      <td>77491756</td>\n",
       "      <td>F</td>\n",
       "      <td>49</td>\n",
       "      <td>Latino</td>\n",
       "      <td>Mid-School</td>\n",
       "      <td>50K -- 100K</td>\n",
       "      <td>East</td>\n",
       "      <td>City Hotel</td>\n",
       "      <td>7/1/2015</td>\n",
       "      <td>7/2/2015</td>\n",
       "      <td>...</td>\n",
       "      <td>BB</td>\n",
       "      <td>No</td>\n",
       "      <td>No</td>\n",
       "      <td>Refundable</td>\n",
       "      <td>Online</td>\n",
       "      <td>Yes</td>\n",
       "      <td>Check-In</td>\n",
       "      <td>No</td>\n",
       "      <td>0</td>\n",
       "      <td>185</td>\n",
       "    </tr>\n",
       "    <tr>\n",
       "      <th>2</th>\n",
       "      <td>73747291</td>\n",
       "      <td>F</td>\n",
       "      <td>42</td>\n",
       "      <td>caucasian</td>\n",
       "      <td>Grad</td>\n",
       "      <td>&lt;25K</td>\n",
       "      <td>East</td>\n",
       "      <td>City Hotel</td>\n",
       "      <td>7/2/2015</td>\n",
       "      <td>7/6/2015</td>\n",
       "      <td>...</td>\n",
       "      <td>BB</td>\n",
       "      <td>No</td>\n",
       "      <td>No</td>\n",
       "      <td>No Deposit</td>\n",
       "      <td>Online</td>\n",
       "      <td>Yes</td>\n",
       "      <td>Check-In</td>\n",
       "      <td>No</td>\n",
       "      <td>0</td>\n",
       "      <td>119</td>\n",
       "    </tr>\n",
       "    <tr>\n",
       "      <th>3</th>\n",
       "      <td>67301739</td>\n",
       "      <td>M</td>\n",
       "      <td>25</td>\n",
       "      <td>African American</td>\n",
       "      <td>College</td>\n",
       "      <td>&gt;100K</td>\n",
       "      <td>South</td>\n",
       "      <td>Airport Hotels</td>\n",
       "      <td>7/2/2015</td>\n",
       "      <td>7/3/2015</td>\n",
       "      <td>...</td>\n",
       "      <td>BB</td>\n",
       "      <td>No</td>\n",
       "      <td>No</td>\n",
       "      <td>Refundable</td>\n",
       "      <td>Agent</td>\n",
       "      <td>Yes</td>\n",
       "      <td>Check-In</td>\n",
       "      <td>Yes</td>\n",
       "      <td>5</td>\n",
       "      <td>144</td>\n",
       "    </tr>\n",
       "    <tr>\n",
       "      <th>4</th>\n",
       "      <td>77222321</td>\n",
       "      <td>F</td>\n",
       "      <td>62</td>\n",
       "      <td>Latino</td>\n",
       "      <td>High-School</td>\n",
       "      <td>25K --50K</td>\n",
       "      <td>East</td>\n",
       "      <td>Resort</td>\n",
       "      <td>7/3/2015</td>\n",
       "      <td>7/4/2015</td>\n",
       "      <td>...</td>\n",
       "      <td>BB</td>\n",
       "      <td>No</td>\n",
       "      <td>No</td>\n",
       "      <td>No Deposit</td>\n",
       "      <td>Direct</td>\n",
       "      <td>No</td>\n",
       "      <td>Check-In</td>\n",
       "      <td>Yes</td>\n",
       "      <td>10</td>\n",
       "      <td>242</td>\n",
       "    </tr>\n",
       "  </tbody>\n",
       "</table>\n",
       "<p>5 rows × 24 columns</p>\n",
       "</div>"
      ],
      "text/plain": [
       "   Reservation-id Gender  Age         Ethnicity Educational_Level  \\\n",
       "0        39428300      F   40            Latino              Grad   \n",
       "1        77491756      F   49            Latino        Mid-School   \n",
       "2        73747291      F   42         caucasian              Grad   \n",
       "3        67301739      M   25  African American           College   \n",
       "4        77222321      F   62            Latino       High-School   \n",
       "\n",
       "        Income Country_region      Hotel_Type Expected_checkin  \\\n",
       "0         <25K          North      City Hotel         7/1/2015   \n",
       "1  50K -- 100K           East      City Hotel         7/1/2015   \n",
       "2         <25K           East      City Hotel         7/2/2015   \n",
       "3        >100K          South  Airport Hotels         7/2/2015   \n",
       "4    25K --50K           East          Resort         7/3/2015   \n",
       "\n",
       "  Expected_checkout  ... Meal_Type  Visted_Previously  Previous_Cancellations  \\\n",
       "0          7/2/2015  ...        BB                 No                      No   \n",
       "1          7/2/2015  ...        BB                 No                      No   \n",
       "2          7/6/2015  ...        BB                 No                      No   \n",
       "3          7/3/2015  ...        BB                 No                      No   \n",
       "4          7/4/2015  ...        BB                 No                      No   \n",
       "\n",
       "   Deposit_type Booking_channel Required_Car_Parking Reservation_Status  \\\n",
       "0    No Deposit          Online                  Yes           Check-In   \n",
       "1    Refundable          Online                  Yes           Check-In   \n",
       "2    No Deposit          Online                  Yes           Check-In   \n",
       "3    Refundable           Agent                  Yes           Check-In   \n",
       "4    No Deposit          Direct                   No           Check-In   \n",
       "\n",
       "  Use_Promotion Discount_Rate Room_Rate  \n",
       "0           Yes            10       218  \n",
       "1            No             0       185  \n",
       "2            No             0       119  \n",
       "3           Yes             5       144  \n",
       "4           Yes            10       242  \n",
       "\n",
       "[5 rows x 24 columns]"
      ]
     },
     "execution_count": 2,
     "metadata": {},
     "output_type": "execute_result"
    }
   ],
   "source": [
    "train = pd.read_csv('Hotel-A-train.csv')\n",
    "validation = pd.read_csv('Hotel-A-validation.csv')\n",
    "test = pd.read_csv('Hotel-A-test.csv')\n",
    "train.head()"
   ]
  },
  {
   "cell_type": "markdown",
   "metadata": {},
   "source": [
    "## Prepare training and validation data"
   ]
  },
  {
   "cell_type": "code",
   "execution_count": 3,
   "metadata": {},
   "outputs": [],
   "source": [
    "def extract_data(train_data):\n",
    "    Reservation_ID = train_data.pop(\"Reservation-id\")\n",
    "    y_train = train_data.pop(\"Reservation_Status\")\n",
    "\n",
    "    #change y_train to classes for turning this as a classification problem\n",
    "    y_train = y_train.map({'Check-In':1, 'Canceled':2, 'No-Show':3})\n",
    "\n",
    "    #calculate no-of check in days and try the possiblities it is weekend or not\n",
    "    train_data[\"Expected_checkin_days\"] = pd.to_datetime(train_data[\"Expected_checkout\"]) - pd.to_datetime(train_data[\"Expected_checkin\"])\n",
    "    train_data[\"Expected_checkin_days\"] = [int(str(x).split(\" \")[0]) for x in train_data[\"Expected_checkin_days\"]]\n",
    "    \n",
    "    train_data['CheckIn_Weekday'] = pd.to_datetime(train_data['Expected_checkin']).dt.dayofweek  # monday = 0, sunday = 6\n",
    "\n",
    "    train_data['CheckInweekend_indi'] = 0          # Initialize the column with default value of 0\n",
    "    train_data.loc[train_data['CheckIn_Weekday'].isin([5, 6]), 'CheckInweekend_indi'] = 1  # 5 and 6 correspond to Sat and Sun \n",
    "    \n",
    "    train_data[\"AdvanceBook_Period\"] = pd.to_datetime(train_data[\"Expected_checkin\"]) - pd.to_datetime(train_data[\"Booking_date\"])\n",
    "    train_data[\"AdvanceBook_Period\"] = [int(str(x).split(\" \")[0]) for x in train_data[\"AdvanceBook_Period\"]]\n",
    "    \n",
    "    train_data.pop(\"Expected_checkout\")\n",
    "    train_data.pop(\"Expected_checkin\")\n",
    "\n",
    "    train_data.pop(\"Booking_date\")\n",
    "\n",
    "    ## difference between checkin-day and booked day\n",
    "    # for age use intervals\n",
    "\n",
    "    train_data[\"Gender\"] = train_data[\"Gender\"].map({'F':0, 'M':1})\n",
    "    train_data[\"Required_Car_Parking\"] = train_data[\"Required_Car_Parking\"].map({'No':0, 'Yes':1})\n",
    "    train_data[\"Use_Promotion\"] = train_data[\"Use_Promotion\"].map({'No':0, 'Yes':1})\n",
    "    train_data[\"Booking_channel\"] = train_data[\"Booking_channel\"].map({'Online':0, 'Direct':1, 'Agent':2})\n",
    "    train_data[\"Deposit_type\"] = train_data[\"Deposit_type\"].map({'No Deposit':0, 'Refundable':1, 'Non-Refundable':2})\n",
    "    train_data[\"Previous_Cancellations\"] = train_data[\"Previous_Cancellations\"].map({'No':0, 'Yes':1})\n",
    "    train_data[\"Visted_Previously\"] = train_data[\"Visted_Previously\"].map({'No':0, 'Yes':1})\n",
    "    train_data[\"Meal_Type\"] = train_data[\"Meal_Type\"].map({'BB':0, 'HB':1, 'FB':2})\n",
    "\n",
    "    train_data[\"Ethnicity\"] = train_data[\"Ethnicity\"].map({'African American':0, 'caucasian':1, 'Asian American':2, \"Latino\":3})\n",
    "    train_data[\"Educational_Level\"] = train_data[\"Educational_Level\"].map({'College':0, 'Mid-School':1, 'High-School':2, \"Grad\":3})\n",
    "    train_data[\"Income\"] = train_data[\"Income\"].map({'<25K':0, '25K --50K':1, '50K -- 100K':2, '>100K':3})\n",
    "\n",
    "    changes=[\"Country_region\",\"Hotel_Type\"]\n",
    "    dummies=pd.concat([pd.get_dummies(train_data[col]) for col in changes], axis=1)\n",
    "    train_data=pd.concat([train_data,dummies],axis=1)\n",
    "\n",
    "    [train_data.pop(col) for col in changes]\n",
    "\n",
    "    train_data[\"Age\"] = train_data[\"Age\"]//20\n",
    "    train_data[\"Discount_Rate\"] = train_data[\"Discount_Rate\"]//5\n",
    "    train_data[\"Room_Rate\"] = train_data[\"Room_Rate\"]//40\n",
    "    \n",
    "    return Reservation_ID, y_train, train_data"
   ]
  },
  {
   "cell_type": "code",
   "execution_count": 4,
   "metadata": {},
   "outputs": [],
   "source": [
    "train_id, y_train, train_data = extract_data(train)\n",
    "val_id, y_val, val_data = extract_data(validation)"
   ]
  },
  {
   "cell_type": "markdown",
   "metadata": {},
   "source": [
    "## Downsampling"
   ]
  },
  {
   "cell_type": "code",
   "execution_count": 5,
   "metadata": {},
   "outputs": [
    {
     "name": "stderr",
     "output_type": "stream",
     "text": [
      "C:\\Users\\banur\\anaconda3\\lib\\site-packages\\imblearn\\utils\\_validation.py:591: FutureWarning: Pass sampling_strategy={1: 4000, 2: 2900, 3: 2125} as keyword args. From version 0.9 passing these as positional arguments will result in an error\n",
      "  FutureWarning,\n"
     ]
    },
    {
     "data": {
      "text/plain": [
       "1    4000\n",
       "2    2900\n",
       "3    2125\n",
       "Name: Reservation_Status, dtype: int64"
      ]
     },
     "execution_count": 5,
     "metadata": {},
     "output_type": "execute_result"
    }
   ],
   "source": [
    "from imblearn.under_sampling import NearMiss\n",
    "undersample = NearMiss({1:4000,2:2900,3:2125},version=3, n_neighbors=3)\n",
    "\n",
    "X_tl, y_tl = undersample.fit_resample(train_data,y_train)\n",
    "pd.Series(y_tl).value_counts()"
   ]
  },
  {
   "cell_type": "markdown",
   "metadata": {},
   "source": [
    "## Model parameter tuning"
   ]
  },
  {
   "cell_type": "code",
   "execution_count": 6,
   "metadata": {},
   "outputs": [],
   "source": [
    "n_estimators = [int(x) for x in np.linspace(start = 200, stop = 1000, num = 10)]\n",
    "max_features = ['auto', 'sqrt']\n",
    "max_depth = [int(x) for x in np.linspace(10, 50, num = 11)]\n",
    "max_depth.append(None)\n",
    "min_samples_split = [2, 5, 10]\n",
    "min_samples_leaf = [1, 2, 4]\n",
    "bootstrap = [True, False]\n",
    "\n",
    "random_grid = {'n_estimators': n_estimators,\n",
    "               'max_features': max_features,\n",
    "               'max_depth': max_depth,\n",
    "               'min_samples_split': min_samples_split,\n",
    "               'min_samples_leaf': min_samples_leaf,\n",
    "               'bootstrap': bootstrap}\n",
    "#print(random_grid)"
   ]
  },
  {
   "cell_type": "code",
   "execution_count": 7,
   "metadata": {},
   "outputs": [
    {
     "name": "stdout",
     "output_type": "stream",
     "text": [
      "Fitting 3 folds for each of 100 candidates, totalling 300 fits\n"
     ]
    },
    {
     "data": {
      "text/plain": [
       "RandomizedSearchCV(cv=3, estimator=RandomForestClassifier(), n_iter=100,\n",
       "                   n_jobs=-1,\n",
       "                   param_distributions={'bootstrap': [True, False],\n",
       "                                        'max_depth': [10, 14, 18, 22, 26, 30,\n",
       "                                                      34, 38, 42, 46, 50,\n",
       "                                                      None],\n",
       "                                        'max_features': ['auto', 'sqrt'],\n",
       "                                        'min_samples_leaf': [1, 2, 4],\n",
       "                                        'min_samples_split': [2, 5, 10],\n",
       "                                        'n_estimators': [200, 288, 377, 466,\n",
       "                                                         555, 644, 733, 822,\n",
       "                                                         911, 1000]},\n",
       "                   random_state=33, verbose=2)"
      ]
     },
     "execution_count": 7,
     "metadata": {},
     "output_type": "execute_result"
    }
   ],
   "source": [
    "from sklearn.ensemble import RandomForestClassifier\n",
    "rf = RandomForestClassifier()\n",
    "\n",
    "model = RandomizedSearchCV(estimator = rf, param_distributions = random_grid, n_iter = 100, cv = 3, verbose=2, random_state=33, n_jobs = -1)\n",
    "model.fit(X_tl, y_tl)"
   ]
  },
  {
   "cell_type": "code",
   "execution_count": 8,
   "metadata": {},
   "outputs": [
    {
     "name": "stdout",
     "output_type": "stream",
     "text": [
      "{'n_estimators': 466, 'min_samples_split': 10, 'min_samples_leaf': 2, 'max_features': 'auto', 'max_depth': 10, 'bootstrap': True}\n"
     ]
    }
   ],
   "source": [
    "print(model.best_params_)"
   ]
  },
  {
   "cell_type": "markdown",
   "metadata": {},
   "source": [
    "## Test data preparation"
   ]
  },
  {
   "cell_type": "code",
   "execution_count": 9,
   "metadata": {},
   "outputs": [],
   "source": [
    "def extract_test_data(train_data):\n",
    "    Reservation_ID = train_data.pop(\"Reservation-id\")\n",
    "    #y_train = train_data.pop(\"Reservation_Status\")\n",
    "\n",
    "    #change y_train to classes for turning this as a classification problem\n",
    "    #y_train = y_train.map({'Check-In':1, 'Canceled':2, 'No-Show':3})\n",
    "\n",
    "    #calculate no-of check in days and try the possiblities it is weekend or not\n",
    "    train_data[\"Expected_checkin_days\"] = pd.to_datetime(train_data[\"Expected_checkout\"]) - pd.to_datetime(train_data[\"Expected_checkin\"])\n",
    "    train_data[\"Expected_checkin_days\"] = [int(str(x).split(\" \")[0]) for x in train_data[\"Expected_checkin_days\"]]\n",
    "    \n",
    "    train_data['CheckIn_Weekday'] = pd.to_datetime(train_data['Expected_checkin']).dt.dayofweek  # monday = 0, sunday = 6\n",
    "\n",
    "    train_data['CheckInweekend_indi'] = 0          # Initialize the column with default value of 0\n",
    "    train_data.loc[train_data['CheckIn_Weekday'].isin([5, 6]), 'CheckInweekend_indi'] = 1  # 5 and 6 correspond to Sat and Sun \n",
    "    \n",
    "    train_data[\"AdvanceBook_Period\"] = pd.to_datetime(train_data[\"Expected_checkin\"]) - pd.to_datetime(train_data[\"Booking_date\"])\n",
    "    train_data[\"AdvanceBook_Period\"] = [int(str(x).split(\" \")[0]) for x in train_data[\"AdvanceBook_Period\"]]\n",
    "    \n",
    "    train_data.pop(\"Expected_checkout\")\n",
    "    train_data.pop(\"Expected_checkin\")\n",
    "\n",
    "    train_data.pop(\"Booking_date\")\n",
    "\n",
    "    ## difference between checkin-day and booked day\n",
    "    # for age use intervals\n",
    "\n",
    "    train_data[\"Gender\"] = train_data[\"Gender\"].map({'F':0, 'M':1})\n",
    "    train_data[\"Required_Car_Parking\"] = train_data[\"Required_Car_Parking\"].map({'No':0, 'Yes':1})\n",
    "    train_data[\"Use_Promotion\"] = train_data[\"Use_Promotion\"].map({'No':0, 'Yes':1})\n",
    "    train_data[\"Booking_channel\"] = train_data[\"Booking_channel\"].map({'Online':0, 'Direct':1, 'Agent':2})\n",
    "    train_data[\"Deposit_type\"] = train_data[\"Deposit_type\"].map({'No Deposit':0, 'Refundable':1, 'Non-Refundable':2})\n",
    "    train_data[\"Previous_Cancellations\"] = train_data[\"Previous_Cancellations\"].map({'No':0, 'Yes':1})\n",
    "    train_data[\"Visted_Previously\"] = train_data[\"Visted_Previously\"].map({'No':0, 'Yes':1})\n",
    "    train_data[\"Meal_Type\"] = train_data[\"Meal_Type\"].map({'BB':0, 'HB':1, 'FB':2})\n",
    "\n",
    "    train_data[\"Ethnicity\"] = train_data[\"Ethnicity\"].map({'African American':0, 'caucasian':1, 'Asian American':2, \"Latino\":3})\n",
    "    train_data[\"Educational_Level\"] = train_data[\"Educational_Level\"].map({'College':0, 'Mid-School':1, 'High-School':2, \"Grad\":3})\n",
    "    train_data[\"Income\"] = train_data[\"Income\"].map({'<25K':0, '25K --50K':1, '50K -- 100K':2, '>100K':3})\n",
    "\n",
    "    changes=[\"Country_region\",\"Hotel_Type\"]\n",
    "    dummies=pd.concat([pd.get_dummies(train_data[col]) for col in changes], axis=1)\n",
    "    train_data=pd.concat([train_data,dummies],axis=1)\n",
    "\n",
    "    [train_data.pop(col) for col in changes]\n",
    "\n",
    "    train_data[\"Age\"] = train_data[\"Age\"]//20\n",
    "    train_data[\"Discount_Rate\"] = train_data[\"Discount_Rate\"]//5\n",
    "    train_data[\"Room_Rate\"] = train_data[\"Room_Rate\"]//40\n",
    "    \n",
    "    return Reservation_ID, train_data"
   ]
  },
  {
   "cell_type": "markdown",
   "metadata": {},
   "source": [
    "## F1 score on validation data"
   ]
  },
  {
   "cell_type": "code",
   "execution_count": 10,
   "metadata": {},
   "outputs": [
    {
     "name": "stdout",
     "output_type": "stream",
     "text": [
      "Accuracy: 50.56%\n",
      "              precision    recall  f1-score   support\n",
      "\n",
      "           1       0.60      0.72      0.66      1610\n",
      "           2       0.29      0.29      0.29       741\n",
      "           3       0.19      0.03      0.04       398\n",
      "\n",
      "    accuracy                           0.51      2749\n",
      "   macro avg       0.36      0.35      0.33      2749\n",
      "weighted avg       0.46      0.51      0.47      2749\n",
      "\n"
     ]
    }
   ],
   "source": [
    "y_pred_val = model.predict(val_data)\n",
    "accuracy = accuracy_score(y_val, y_pred_val)\n",
    "print(\"Accuracy: %.2f%%\" % (accuracy*100.0))\n",
    "\n",
    "print(classification_report(y_val,y_pred_val))"
   ]
  },
  {
   "cell_type": "code",
   "execution_count": 11,
   "metadata": {},
   "outputs": [],
   "source": [
    "op = {'Reservation-id':val_id,'Reservation_status':y_pred_val}\n",
    "df = pd.DataFrame(op,columns=['Reservation-id','Reservation_status'])\n",
    "vexport_csv=df.to_csv('prediction_val1.csv',index=None,header=True)"
   ]
  },
  {
   "cell_type": "markdown",
   "metadata": {},
   "source": [
    "## Prediction"
   ]
  },
  {
   "cell_type": "code",
   "execution_count": 12,
   "metadata": {},
   "outputs": [],
   "source": [
    "test_id,test_data = extract_test_data(test)"
   ]
  },
  {
   "cell_type": "code",
   "execution_count": 13,
   "metadata": {},
   "outputs": [],
   "source": [
    "y_pred_test = model.predict(test_data)"
   ]
  },
  {
   "cell_type": "code",
   "execution_count": 14,
   "metadata": {},
   "outputs": [],
   "source": [
    "# op = {'Reservation-id':test_id,'Reservation_status':y_pred_test}\n",
    "# df = pd.DataFrame(op,columns=['Reservation-id','Reservation_status'])\n",
    "# df.head(20)\n",
    "# vexport_csv=df.to_csv('prediction_day3_3.csv',index=None,header=True)"
   ]
  }
 ],
 "metadata": {
  "kernelspec": {
   "display_name": "Python 3",
   "language": "python",
   "name": "python3"
  },
  "language_info": {
   "codemirror_mode": {
    "name": "ipython",
    "version": 3
   },
   "file_extension": ".py",
   "mimetype": "text/x-python",
   "name": "python",
   "nbconvert_exporter": "python",
   "pygments_lexer": "ipython3",
   "version": "3.6.10"
  }
 },
 "nbformat": 4,
 "nbformat_minor": 4
}
