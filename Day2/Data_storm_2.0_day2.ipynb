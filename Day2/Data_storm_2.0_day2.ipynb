{
 "cells": [
  {
   "cell_type": "code",
   "execution_count": 23,
   "metadata": {},
   "outputs": [],
   "source": [
    "import pandas as pd\n",
    "import xgboost as xgb\n",
    "from sklearn.metrics import auc, accuracy_score, confusion_matrix, mean_squared_error,classification_report\n",
    "\n",
    "from xgboost import XGBClassifier\n",
    "from matplotlib import pyplot\n",
    "from xgboost import plot_importance\n",
    "\n",
    "from numpy import sort\n",
    "from xgboost import XGBClassifier\n",
    "from sklearn.model_selection import train_test_split\n",
    "from sklearn.metrics import accuracy_score\n",
    "from sklearn.feature_selection import SelectFromModel"
   ]
  },
  {
   "cell_type": "code",
   "execution_count": 24,
   "metadata": {},
   "outputs": [
    {
     "data": {
      "text/html": [
       "<div>\n",
       "<style scoped>\n",
       "    .dataframe tbody tr th:only-of-type {\n",
       "        vertical-align: middle;\n",
       "    }\n",
       "\n",
       "    .dataframe tbody tr th {\n",
       "        vertical-align: top;\n",
       "    }\n",
       "\n",
       "    .dataframe thead th {\n",
       "        text-align: right;\n",
       "    }\n",
       "</style>\n",
       "<table border=\"1\" class=\"dataframe\">\n",
       "  <thead>\n",
       "    <tr style=\"text-align: right;\">\n",
       "      <th></th>\n",
       "      <th>Reservation-id</th>\n",
       "      <th>Gender</th>\n",
       "      <th>Age</th>\n",
       "      <th>Ethnicity</th>\n",
       "      <th>Educational_Level</th>\n",
       "      <th>Income</th>\n",
       "      <th>Country_region</th>\n",
       "      <th>Hotel_Type</th>\n",
       "      <th>Expected_checkin</th>\n",
       "      <th>Expected_checkout</th>\n",
       "      <th>...</th>\n",
       "      <th>Babies</th>\n",
       "      <th>Meal_Type</th>\n",
       "      <th>Visted_Previously</th>\n",
       "      <th>Previous_Cancellations</th>\n",
       "      <th>Deposit_type</th>\n",
       "      <th>Booking_channel</th>\n",
       "      <th>Required_Car_Parking</th>\n",
       "      <th>Use_Promotion</th>\n",
       "      <th>Discount_Rate</th>\n",
       "      <th>Room_Rate</th>\n",
       "    </tr>\n",
       "  </thead>\n",
       "  <tbody>\n",
       "    <tr>\n",
       "      <th>0</th>\n",
       "      <td>62931593</td>\n",
       "      <td>F</td>\n",
       "      <td>52</td>\n",
       "      <td>Latino</td>\n",
       "      <td>Grad</td>\n",
       "      <td>25K --50K</td>\n",
       "      <td>South</td>\n",
       "      <td>City Hotel</td>\n",
       "      <td>11/18/2016</td>\n",
       "      <td>11/19/2016</td>\n",
       "      <td>...</td>\n",
       "      <td>0</td>\n",
       "      <td>HB</td>\n",
       "      <td>No</td>\n",
       "      <td>No</td>\n",
       "      <td>No Deposit</td>\n",
       "      <td>Direct</td>\n",
       "      <td>Yes</td>\n",
       "      <td>Yes</td>\n",
       "      <td>10</td>\n",
       "      <td>153</td>\n",
       "    </tr>\n",
       "    <tr>\n",
       "      <th>1</th>\n",
       "      <td>70586099</td>\n",
       "      <td>F</td>\n",
       "      <td>47</td>\n",
       "      <td>Latino</td>\n",
       "      <td>Grad</td>\n",
       "      <td>25K --50K</td>\n",
       "      <td>East</td>\n",
       "      <td>Airport Hotels</td>\n",
       "      <td>11/18/2016</td>\n",
       "      <td>11/19/2016</td>\n",
       "      <td>...</td>\n",
       "      <td>0</td>\n",
       "      <td>FB</td>\n",
       "      <td>No</td>\n",
       "      <td>No</td>\n",
       "      <td>No Deposit</td>\n",
       "      <td>Online</td>\n",
       "      <td>No</td>\n",
       "      <td>No</td>\n",
       "      <td>0</td>\n",
       "      <td>210</td>\n",
       "    </tr>\n",
       "    <tr>\n",
       "      <th>2</th>\n",
       "      <td>4230648</td>\n",
       "      <td>F</td>\n",
       "      <td>28</td>\n",
       "      <td>Asian American</td>\n",
       "      <td>Grad</td>\n",
       "      <td>&lt;25K</td>\n",
       "      <td>East</td>\n",
       "      <td>City Hotel</td>\n",
       "      <td>4/28/2017</td>\n",
       "      <td>5/1/2017</td>\n",
       "      <td>...</td>\n",
       "      <td>0</td>\n",
       "      <td>BB</td>\n",
       "      <td>No</td>\n",
       "      <td>No</td>\n",
       "      <td>No Deposit</td>\n",
       "      <td>Agent</td>\n",
       "      <td>No</td>\n",
       "      <td>Yes</td>\n",
       "      <td>5</td>\n",
       "      <td>117</td>\n",
       "    </tr>\n",
       "    <tr>\n",
       "      <th>3</th>\n",
       "      <td>25192322</td>\n",
       "      <td>F</td>\n",
       "      <td>65</td>\n",
       "      <td>caucasian</td>\n",
       "      <td>High-School</td>\n",
       "      <td>25K --50K</td>\n",
       "      <td>South</td>\n",
       "      <td>Airport Hotels</td>\n",
       "      <td>11/18/2016</td>\n",
       "      <td>11/20/2016</td>\n",
       "      <td>...</td>\n",
       "      <td>2</td>\n",
       "      <td>FB</td>\n",
       "      <td>No</td>\n",
       "      <td>No</td>\n",
       "      <td>No Deposit</td>\n",
       "      <td>Online</td>\n",
       "      <td>Yes</td>\n",
       "      <td>Yes</td>\n",
       "      <td>10</td>\n",
       "      <td>107</td>\n",
       "    </tr>\n",
       "    <tr>\n",
       "      <th>4</th>\n",
       "      <td>80931528</td>\n",
       "      <td>M</td>\n",
       "      <td>45</td>\n",
       "      <td>African American</td>\n",
       "      <td>College</td>\n",
       "      <td>25K --50K</td>\n",
       "      <td>South</td>\n",
       "      <td>City Hotel</td>\n",
       "      <td>11/18/2016</td>\n",
       "      <td>11/20/2016</td>\n",
       "      <td>...</td>\n",
       "      <td>0</td>\n",
       "      <td>BB</td>\n",
       "      <td>No</td>\n",
       "      <td>No</td>\n",
       "      <td>Refundable</td>\n",
       "      <td>Agent</td>\n",
       "      <td>No</td>\n",
       "      <td>No</td>\n",
       "      <td>0</td>\n",
       "      <td>119</td>\n",
       "    </tr>\n",
       "  </tbody>\n",
       "</table>\n",
       "<p>5 rows × 23 columns</p>\n",
       "</div>"
      ],
      "text/plain": [
       "   Reservation-id Gender  Age         Ethnicity Educational_Level     Income  \\\n",
       "0        62931593      F   52            Latino              Grad  25K --50K   \n",
       "1        70586099      F   47            Latino              Grad  25K --50K   \n",
       "2         4230648      F   28    Asian American              Grad       <25K   \n",
       "3        25192322      F   65         caucasian       High-School  25K --50K   \n",
       "4        80931528      M   45  African American           College  25K --50K   \n",
       "\n",
       "  Country_region      Hotel_Type Expected_checkin Expected_checkout  ...  \\\n",
       "0          South      City Hotel       11/18/2016        11/19/2016  ...   \n",
       "1           East  Airport Hotels       11/18/2016        11/19/2016  ...   \n",
       "2           East      City Hotel        4/28/2017          5/1/2017  ...   \n",
       "3          South  Airport Hotels       11/18/2016        11/20/2016  ...   \n",
       "4          South      City Hotel       11/18/2016        11/20/2016  ...   \n",
       "\n",
       "  Babies  Meal_Type  Visted_Previously  Previous_Cancellations Deposit_type  \\\n",
       "0      0         HB                 No                      No   No Deposit   \n",
       "1      0         FB                 No                      No   No Deposit   \n",
       "2      0         BB                 No                      No   No Deposit   \n",
       "3      2         FB                 No                      No   No Deposit   \n",
       "4      0         BB                 No                      No   Refundable   \n",
       "\n",
       "  Booking_channel Required_Car_Parking Use_Promotion Discount_Rate Room_Rate  \n",
       "0          Direct                  Yes           Yes            10       153  \n",
       "1          Online                   No            No             0       210  \n",
       "2           Agent                   No           Yes             5       117  \n",
       "3          Online                  Yes           Yes            10       107  \n",
       "4           Agent                   No            No             0       119  \n",
       "\n",
       "[5 rows x 23 columns]"
      ]
     },
     "execution_count": 24,
     "metadata": {},
     "output_type": "execute_result"
    }
   ],
   "source": [
    "train = pd.read_csv('Hotel-A-train.csv')\n",
    "validation = pd.read_csv('Hotel-A-validation.csv')\n",
    "test = pd.read_csv('Hotel-A-test.csv')\n",
    "test.head()"
   ]
  },
  {
   "cell_type": "code",
   "execution_count": 25,
   "metadata": {},
   "outputs": [
    {
     "data": {
      "text/plain": [
       "Index(['Reservation-id', 'Gender', 'Age', 'Ethnicity', 'Educational_Level',\n",
       "       'Income', 'Country_region', 'Hotel_Type', 'Expected_checkin',\n",
       "       'Expected_checkout', 'Booking_date', 'Adults', 'Children', 'Babies',\n",
       "       'Meal_Type', 'Visted_Previously', 'Previous_Cancellations',\n",
       "       'Deposit_type', 'Booking_channel', 'Required_Car_Parking',\n",
       "       'Use_Promotion', 'Discount_Rate', 'Room_Rate'],\n",
       "      dtype='object')"
      ]
     },
     "execution_count": 25,
     "metadata": {},
     "output_type": "execute_result"
    }
   ],
   "source": [
    "test.columns"
   ]
  },
  {
   "cell_type": "code",
   "execution_count": 38,
   "metadata": {},
   "outputs": [
    {
     "name": "stdout",
     "output_type": "stream",
     "text": [
      "Yes    2085\n",
      "No      664\n",
      "Name: Use_Promotion, dtype: int64\n"
     ]
    }
   ],
   "source": [
    "x = validation[\"Use_Promotion\"].value_counts()\n",
    "print(x)"
   ]
  },
  {
   "cell_type": "code",
   "execution_count": null,
   "metadata": {},
   "outputs": [],
   "source": []
  },
  {
   "cell_type": "code",
   "execution_count": null,
   "metadata": {},
   "outputs": [],
   "source": []
  },
  {
   "cell_type": "code",
   "execution_count": null,
   "metadata": {},
   "outputs": [],
   "source": []
  },
  {
   "cell_type": "code",
   "execution_count": null,
   "metadata": {},
   "outputs": [],
   "source": []
  },
  {
   "cell_type": "code",
   "execution_count": 10,
   "metadata": {},
   "outputs": [],
   "source": [
    "def extract_data(train_data):\n",
    "    Reservation_ID = train_data.pop(\"Reservation-id\")\n",
    "    y_train = train_data.pop(\"Reservation_Status\")\n",
    "\n",
    "    #change y_train to classes for turning this as a classification problem\n",
    "    y_train = y_train.map({'Check-In':1, 'Canceled':2, 'No-Show':3})\n",
    "\n",
    "    #calculate no-of check in days and try the possiblities it is weekend or not\n",
    "    train_data[\"Expected_checkin_days\"] = pd.to_datetime(train_data[\"Expected_checkout\"]) - pd.to_datetime(train_data[\"Expected_checkin\"])\n",
    "    train_data.pop(\"Expected_checkout\")\n",
    "    train_data.pop(\"Expected_checkin\")\n",
    "\n",
    "    train_data.pop(\"Booking_date\")\n",
    "\n",
    "    ## difference between checkin-day and booked day\n",
    "    # for age use intervals\n",
    "\n",
    "    train_data[\"Gender\"] = train_data[\"Gender\"].map({'F':0, 'M':1})\n",
    "    train_data[\"Required_Car_Parking\"] = train_data[\"Required_Car_Parking\"].map({'No':0, 'Yes':1})\n",
    "    train_data[\"Use_Promotion\"] = train_data[\"Use_Promotion\"].map({'No':0, 'Yes':1})\n",
    "    train_data[\"Booking_channel\"] = train_data[\"Booking_channel\"].map({'Online':0, 'Direct':1, 'Agent':2})\n",
    "    train_data[\"Deposit_type\"] = train_data[\"Deposit_type\"].map({'No Deposit':0, 'Refundable':1, 'Non-Refundable':2})\n",
    "    train_data[\"Previous_Cancellations\"] = train_data[\"Previous_Cancellations\"].map({'No':0, 'Yes':1})\n",
    "    train_data[\"Visted_Previously\"] = train_data[\"Visted_Previously\"].map({'No':0, 'Yes':1})\n",
    "    train_data[\"Meal_Type\"] = train_data[\"Meal_Type\"].map({'BB':0, 'HB':1, 'FB':1})\n",
    "    train_data[\"Income\"] = train_data[\"Income\"].map({'<25K':0, '25K --50K':1, '50K -- 100K':2, '>100K':3})\n",
    "\n",
    "    train_data[\"Ethnicity\"] = train_data[\"Ethnicity\"].map({'African American':0, 'caucasian':1, 'Asian American':2, \"Latino\":3})\n",
    "    #train_data[\"Educational_Level\"] = train_data[\"Educational_Level\"].map({'College':0, 'High-School':1, 'Mid-School':2, \"Grad\":3})\n",
    "\n",
    "    changes=[\"Country_region\",\"Hotel_Type\",\"Educational_Level\"]\n",
    "    dummies=pd.concat([pd.get_dummies(train_data[col]) for col in changes], axis=1)\n",
    "    train_data=pd.concat([train_data,dummies],axis=1)\n",
    "\n",
    "    [train_data.pop(col) for col in changes]\n",
    "\n",
    "    train_data[\"Age\"] = train_data[\"Age\"]//20\n",
    "    train_data[\"Discount_Rate\"] = train_data[\"Discount_Rate\"]//5\n",
    "    train_data[\"Room_Rate\"] = train_data[\"Room_Rate\"]//40\n",
    "    \n",
    "    train_data[\"Expected_checkin_days\"] = [int(str(x).split(\" \")[0]) for x in train_data[\"Expected_checkin_days\"]]\n",
    "    \n",
    "    return Reservation_ID, y_train, train_data\n"
   ]
  },
  {
   "cell_type": "code",
   "execution_count": 11,
   "metadata": {},
   "outputs": [],
   "source": [
    "train_id, y_train, train_data = extract_data(train)\n",
    "val_id, y_val, val_data = extract_data(validation)"
   ]
  },
  {
   "cell_type": "code",
   "execution_count": 12,
   "metadata": {},
   "outputs": [
    {
     "data": {
      "text/plain": [
       "Index(['Gender', 'Age', 'Ethnicity', 'Income', 'Adults', 'Children', 'Babies',\n",
       "       'Meal_Type', 'Visted_Previously', 'Previous_Cancellations',\n",
       "       'Deposit_type', 'Booking_channel', 'Required_Car_Parking',\n",
       "       'Use_Promotion', 'Discount_Rate', 'Room_Rate', 'Expected_checkin_days',\n",
       "       'East', 'North', 'South', 'West', 'Airport Hotels', 'City Hotel',\n",
       "       'Resort', 'College', 'Grad', 'High-School', 'Mid-School'],\n",
       "      dtype='object')"
      ]
     },
     "execution_count": 12,
     "metadata": {},
     "output_type": "execute_result"
    }
   ],
   "source": [
    "train_data.columns"
   ]
  },
  {
   "cell_type": "code",
   "execution_count": 13,
   "metadata": {},
   "outputs": [
    {
     "data": {
      "text/plain": [
       "Index(['Gender', 'Age', 'Ethnicity', 'Income', 'Adults', 'Children', 'Babies',\n",
       "       'Meal_Type', 'Visted_Previously', 'Previous_Cancellations',\n",
       "       'Deposit_type', 'Booking_channel', 'Required_Car_Parking',\n",
       "       'Use_Promotion', 'Discount_Rate', 'Room_Rate', 'Expected_checkin_days',\n",
       "       'East', 'North', 'South', 'West', 'Airport Hotels', 'City Hotel',\n",
       "       'Resort', 'College', 'Grad', 'High-School', 'Mid-School'],\n",
       "      dtype='object')"
      ]
     },
     "execution_count": 13,
     "metadata": {},
     "output_type": "execute_result"
    }
   ],
   "source": [
    "val_data.columns"
   ]
  },
  {
   "cell_type": "code",
   "execution_count": 14,
   "metadata": {},
   "outputs": [],
   "source": [
    "# train_data = train_data.values\n",
    "# y_train = y_train.values\n",
    "# val_data = val_data.values\n",
    "# y_val = y_val.values"
   ]
  },
  {
   "cell_type": "code",
   "execution_count": 15,
   "metadata": {},
   "outputs": [],
   "source": [
    "# train_data.columns"
   ]
  },
  {
   "cell_type": "code",
   "execution_count": 16,
   "metadata": {},
   "outputs": [],
   "source": [
    "# val_data.columns"
   ]
  },
  {
   "cell_type": "code",
   "execution_count": 17,
   "metadata": {},
   "outputs": [
    {
     "data": {
      "text/plain": [
       "array([2, 2, 2, ..., 3, 3, 3], dtype=int64)"
      ]
     },
     "execution_count": 17,
     "metadata": {},
     "output_type": "execute_result"
    }
   ],
   "source": [
    "y_train.values"
   ]
  },
  {
   "cell_type": "code",
   "execution_count": 18,
   "metadata": {},
   "outputs": [
    {
     "name": "stdout",
     "output_type": "stream",
     "text": [
      "2    4132\n",
      "1    3775\n",
      "3    2124\n",
      "Name: Reservation_Status, dtype: int64\n"
     ]
    }
   ],
   "source": [
    "x = y_train.value_counts()\n",
    "print(x)"
   ]
  },
  {
   "cell_type": "code",
   "execution_count": 19,
   "metadata": {},
   "outputs": [
    {
     "data": {
      "image/png": "[encoded data removed]",
      "text/plain": [
       "<Figure size 432x288 with 1 Axes>"
      ]
     },
     "metadata": {
      "needs_background": "light"
     },
     "output_type": "display_data"
    }
   ],
   "source": [
    "model = XGBClassifier(learning_rate =0.01,n_estimators=1000, max_depth=3, \n",
    "                        objective= 'multi:softmax', num_class=3,\n",
    "                                    seed=30, random_state=7)\n",
    "\n",
    "model.fit(train_data, y_train)\n",
    "\n",
    "plot_importance(model)\n",
    "pyplot.show()"
   ]
  },
  {
   "cell_type": "code",
   "execution_count": 20,
   "metadata": {},
   "outputs": [
    {
     "name": "stdout",
     "output_type": "stream",
     "text": [
      "[0.02646022 0.03353737 0.03238139 0.03257995 0.03369527 0.02875418\n",
      " 0.03099976 0.037504   0.03464881 0.03840709 0.02818538 0.03646029\n",
      " 0.03993196 0.03397407 0.03252207 0.03637807 0.03880755 0.03104558\n",
      " 0.0411834  0.0438493  0.03212228 0.02995623 0.03712882 0.03624611\n",
      " 0.04046881 0.04695316 0.0479861  0.03783279]\n"
     ]
    }
   ],
   "source": [
    "print(model.feature_importances_)"
   ]
  },
  {
   "cell_type": "code",
   "execution_count": 21,
   "metadata": {},
   "outputs": [
    {
     "name": "stdout",
     "output_type": "stream",
     "text": [
      "Accuracy: 37.03%\n",
      "              precision    recall  f1-score   support\n",
      "\n",
      "           1       0.60      0.30      0.40      1610\n",
      "           2       0.27      0.72      0.40       741\n",
      "           3       0.25      0.00      0.00       398\n",
      "\n",
      "    accuracy                           0.37      2749\n",
      "   macro avg       0.38      0.34      0.27      2749\n",
      "weighted avg       0.46      0.37      0.34      2749\n",
      "\n"
     ]
    }
   ],
   "source": [
    "y_pred_val = model.predict(val_data)\n",
    "#predictions = [round(value) for value in y_pred]\n",
    "accuracy = accuracy_score(y_val, y_pred_val)\n",
    "print(\"Accuracy: %.2f%%\" % (accuracy*100.0))\n",
    "\n",
    "\n",
    "print(classification_report(y_val,y_pred_val))"
   ]
  },
  {
   "cell_type": "code",
   "execution_count": 22,
   "metadata": {},
   "outputs": [
    {
     "name": "stdout",
     "output_type": "stream",
     "text": [
      "[1 2 2 ... 1 1 1]\n"
     ]
    }
   ],
   "source": [
    "print(y_pred_val)"
   ]
  },
  {
   "cell_type": "code",
   "execution_count": 23,
   "metadata": {},
   "outputs": [
    {
     "data": {
      "text/html": [
       "<div>\n",
       "<style scoped>\n",
       "    .dataframe tbody tr th:only-of-type {\n",
       "        vertical-align: middle;\n",
       "    }\n",
       "\n",
       "    .dataframe tbody tr th {\n",
       "        vertical-align: top;\n",
       "    }\n",
       "\n",
       "    .dataframe thead th {\n",
       "        text-align: right;\n",
       "    }\n",
       "</style>\n",
       "<table border=\"1\" class=\"dataframe\">\n",
       "  <thead>\n",
       "    <tr style=\"text-align: right;\">\n",
       "      <th></th>\n",
       "      <th>Reservation-id</th>\n",
       "      <th>Reservation_status</th>\n",
       "    </tr>\n",
       "  </thead>\n",
       "  <tbody>\n",
       "    <tr>\n",
       "      <th>0</th>\n",
       "      <td>45716350</td>\n",
       "      <td>1</td>\n",
       "    </tr>\n",
       "    <tr>\n",
       "      <th>1</th>\n",
       "      <td>88857401</td>\n",
       "      <td>2</td>\n",
       "    </tr>\n",
       "    <tr>\n",
       "      <th>2</th>\n",
       "      <td>16074440</td>\n",
       "      <td>2</td>\n",
       "    </tr>\n",
       "    <tr>\n",
       "      <th>3</th>\n",
       "      <td>10992124</td>\n",
       "      <td>1</td>\n",
       "    </tr>\n",
       "    <tr>\n",
       "      <th>4</th>\n",
       "      <td>15934351</td>\n",
       "      <td>2</td>\n",
       "    </tr>\n",
       "    <tr>\n",
       "      <th>5</th>\n",
       "      <td>58998216</td>\n",
       "      <td>2</td>\n",
       "    </tr>\n",
       "    <tr>\n",
       "      <th>6</th>\n",
       "      <td>64307850</td>\n",
       "      <td>2</td>\n",
       "    </tr>\n",
       "    <tr>\n",
       "      <th>7</th>\n",
       "      <td>79949146</td>\n",
       "      <td>2</td>\n",
       "    </tr>\n",
       "    <tr>\n",
       "      <th>8</th>\n",
       "      <td>95113258</td>\n",
       "      <td>2</td>\n",
       "    </tr>\n",
       "    <tr>\n",
       "      <th>9</th>\n",
       "      <td>24700715</td>\n",
       "      <td>1</td>\n",
       "    </tr>\n",
       "    <tr>\n",
       "      <th>10</th>\n",
       "      <td>37295165</td>\n",
       "      <td>1</td>\n",
       "    </tr>\n",
       "    <tr>\n",
       "      <th>11</th>\n",
       "      <td>72148587</td>\n",
       "      <td>2</td>\n",
       "    </tr>\n",
       "    <tr>\n",
       "      <th>12</th>\n",
       "      <td>10830859</td>\n",
       "      <td>1</td>\n",
       "    </tr>\n",
       "    <tr>\n",
       "      <th>13</th>\n",
       "      <td>1986327</td>\n",
       "      <td>1</td>\n",
       "    </tr>\n",
       "    <tr>\n",
       "      <th>14</th>\n",
       "      <td>51692460</td>\n",
       "      <td>2</td>\n",
       "    </tr>\n",
       "    <tr>\n",
       "      <th>15</th>\n",
       "      <td>16849965</td>\n",
       "      <td>2</td>\n",
       "    </tr>\n",
       "    <tr>\n",
       "      <th>16</th>\n",
       "      <td>65838688</td>\n",
       "      <td>2</td>\n",
       "    </tr>\n",
       "    <tr>\n",
       "      <th>17</th>\n",
       "      <td>81169944</td>\n",
       "      <td>1</td>\n",
       "    </tr>\n",
       "    <tr>\n",
       "      <th>18</th>\n",
       "      <td>95388422</td>\n",
       "      <td>2</td>\n",
       "    </tr>\n",
       "    <tr>\n",
       "      <th>19</th>\n",
       "      <td>23958156</td>\n",
       "      <td>2</td>\n",
       "    </tr>\n",
       "  </tbody>\n",
       "</table>\n",
       "</div>"
      ],
      "text/plain": [
       "    Reservation-id  Reservation_status\n",
       "0         45716350                   1\n",
       "1         88857401                   2\n",
       "2         16074440                   2\n",
       "3         10992124                   1\n",
       "4         15934351                   2\n",
       "5         58998216                   2\n",
       "6         64307850                   2\n",
       "7         79949146                   2\n",
       "8         95113258                   2\n",
       "9         24700715                   1\n",
       "10        37295165                   1\n",
       "11        72148587                   2\n",
       "12        10830859                   1\n",
       "13         1986327                   1\n",
       "14        51692460                   2\n",
       "15        16849965                   2\n",
       "16        65838688                   2\n",
       "17        81169944                   1\n",
       "18        95388422                   2\n",
       "19        23958156                   2"
      ]
     },
     "execution_count": 23,
     "metadata": {},
     "output_type": "execute_result"
    }
   ],
   "source": [
    "op = {'Reservation-id':val_id,'Reservation_status':y_pred_val}\n",
    "df = pd.DataFrame(op,columns=['Reservation-id','Reservation_status'])\n",
    "df.head(20)\n",
    "#vexport_csv=df.to_csv('prediction_999.csv',index=None,header=True)"
   ]
  },
  {
   "cell_type": "code",
   "execution_count": null,
   "metadata": {},
   "outputs": [],
   "source": []
  },
  {
   "cell_type": "code",
   "execution_count": 25,
   "metadata": {},
   "outputs": [],
   "source": [
    "# thresholds = [0.013,0.014,0.015, 0.016, 0.017, 0.018, 0.020, 0.050]\n",
    "# for thresh in thresholds:\n",
    "#     # select features using threshold\n",
    "#     selection = SelectFromModel(model, threshold=thresh, prefit=True)\n",
    "#     select_X_train = selection.transform(train_data)\n",
    "#     #print(select_X_train.columns)\n",
    "#     # train model\n",
    "#     selection_model = XGBClassifier(learning_rate =0.001,n_estimators=1000, max_depth=3, \n",
    "#                                     colsample_bytree=0.8, objective= 'multi:softmax', num_class=3, nthread=4,\n",
    "#                                     seed=30, random_state=7)\n",
    "\n",
    "#     selection_model.fit(select_X_train, y_train)\n",
    "#     # eval model\n",
    "#     select_X_test = selection.transform(val_data)\n",
    "#     y_pred = selection_model.predict(select_X_test)\n",
    "#     #predictions = [round(value) for value in y_pred]\n",
    "#     accuracy = accuracy_score(y_val, y_pred)\n",
    "#     print(\"Thresh=%.4f, n=%d, Accuracy: %.2f%%\" % (thresh, select_X_train.shape[1], accuracy*100.0))\n",
    "\n",
    "\n",
    "# print(classification_report(y_val,y_pred))\n",
    "\n",
    "# #select_test = selection.transform(test_data1)\n",
    "# #prediction = selection_model.predict(select_test)\n",
    "\n",
    "# #op = {'Client_ID':index_test,'NEXT_MONTH_DEFAULT':prediction}\n",
    "# #df = pd.DataFrame(op,columns=['Client_ID','NEXT_MONTH_DEFAULT'])\n",
    "# #vexport_csv=df.to_csv('prediction_day2_4.csv',index=None,header=True)\n",
    "\n"
   ]
  },
  {
   "cell_type": "code",
   "execution_count": null,
   "metadata": {},
   "outputs": [],
   "source": []
  },
  {
   "cell_type": "code",
   "execution_count": 26,
   "metadata": {},
   "outputs": [],
   "source": [
    "def extract_test_data(train_data):\n",
    "    Reservation_ID = train_data.pop(\"Reservation-id\")\n",
    "    \n",
    "    #calculate no-of check in days and try the possiblities it is weekend or not\n",
    "    train_data[\"Expected_checkin_days\"] = pd.to_datetime(train_data[\"Expected_checkout\"]) - pd.to_datetime(train_data[\"Expected_checkin\"])\n",
    "    train_data.pop(\"Expected_checkout\")\n",
    "    train_data.pop(\"Expected_checkin\")\n",
    "\n",
    "    train_data.pop(\"Booking_date\")\n",
    "\n",
    "    ## difference between checkin-day and booked day\n",
    "    # for age use intervals\n",
    "\n",
    "    train_data[\"Gender\"] = train_data[\"Gender\"].map({'F':0, 'M':1})\n",
    "    train_data[\"Required_Car_Parking\"] = train_data[\"Required_Car_Parking\"].map({'No':0, 'Yes':1})\n",
    "    train_data[\"Use_Promotion\"] = train_data[\"Use_Promotion\"].map({'No':0, 'Yes':1})\n",
    "    train_data[\"Booking_channel\"] = train_data[\"Booking_channel\"].map({'Online':0, 'Direct':1, 'Agent':2})\n",
    "    train_data[\"Deposit_type\"] = train_data[\"Deposit_type\"].map({'No Deposit':0, 'Refundable':1, 'Non-Refundable':2})\n",
    "    train_data[\"Previous_Cancellations\"] = train_data[\"Previous_Cancellations\"].map({'No':0, 'Yes':1})\n",
    "    train_data[\"Visted_Previously\"] = train_data[\"Visted_Previously\"].map({'No':0, 'Yes':1})\n",
    "    train_data[\"Meal_Type\"] = train_data[\"Meal_Type\"].map({'BB':0, 'HB':1, 'FB':1})\n",
    "    train_data[\"Income\"] = train_data[\"Income\"].map({'<25K':0, '25K --50K':1, '50K -- 100K':2, '>100K':3})\n",
    "\n",
    "    train_data[\"Ethnicity\"] = train_data[\"Ethnicity\"].map({'African American':0, 'caucasian':1, 'Asian American':2, \"Latino\":3})\n",
    "    #train_data[\"Educational_Level\"] = train_data[\"Educational_Level\"].map({'College':0, 'High-School':1, 'Mid-School':2, \"Grad\":3})\n",
    "\n",
    "    changes=[\"Country_region\",\"Hotel_Type\",\"Educational_Level\"]\n",
    "    dummies=pd.concat([pd.get_dummies(train_data[col]) for col in changes], axis=1)\n",
    "    train_data=pd.concat([train_data,dummies],axis=1)\n",
    "\n",
    "    [train_data.pop(col) for col in changes]\n",
    "\n",
    "    train_data[\"Age\"] = train_data[\"Age\"]//20\n",
    "    train_data[\"Discount_Rate\"] = train_data[\"Discount_Rate\"]//5\n",
    "    train_data[\"Room_Rate\"] = train_data[\"Room_Rate\"]//40\n",
    "    \n",
    "    train_data[\"Expected_checkin_days\"] = [int(str(x).split(\" \")[0]) for x in train_data[\"Expected_checkin_days\"]]\n",
    "    \n",
    "    return Reservation_ID, y_train, train_data\n"
   ]
  },
  {
   "cell_type": "code",
   "execution_count": 27,
   "metadata": {},
   "outputs": [],
   "source": [
    "test_id, y_test, test_data = extract_test_data(test)"
   ]
  },
  {
   "cell_type": "code",
   "execution_count": 28,
   "metadata": {},
   "outputs": [],
   "source": [
    "y_pred_test = model.predict(test_data)"
   ]
  },
  {
   "cell_type": "code",
   "execution_count": 29,
   "metadata": {},
   "outputs": [],
   "source": [
    "op = {'Reservation-id':test_id,'Reservation_status':y_pred_test}\n",
    "df = pd.DataFrame(op,columns=['Reservation-id','Reservation_status'])\n",
    "df.head(20)\n",
    "#vexport_csv=df.to_csv('prediction_211.csv',index=None,header=True)"
   ]
  },
  {
   "cell_type": "code",
   "execution_count": null,
   "metadata": {},
   "outputs": [],
   "source": []
  }
 ],
 "metadata": {
  "kernelspec": {
   "display_name": "Python 3",
   "language": "python",
   "name": "python3"
  },
  "language_info": {
   "codemirror_mode": {
    "name": "ipython",
    "version": 3
   },
   "file_extension": ".py",
   "mimetype": "text/x-python",
   "name": "python",
   "nbconvert_exporter": "python",
   "pygments_lexer": "ipython3",
   "version": "3.6.10"
  }
 },
 "nbformat": 4,
 "nbformat_minor": 4
}
